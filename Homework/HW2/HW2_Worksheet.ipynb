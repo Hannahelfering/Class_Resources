{
 "cells": [
  {
   "cell_type": "markdown",
   "metadata": {},
   "source": [
    "\n",
    "1. Counts the number of A's, C's, G's, and T's in the following two DNA sequences (note that the first has 52 nucleotides and the second 53)\n",
    "\n",
    "\ta.  CGCAGCTAACGCATTAAGCACTCCGCCTGGGGAGTACGACCGCAAGGTTGAA\n",
    "\n",
    "\tb.  CGGATCGTAAAGCTCTGTTGTTGGTGAAGAAGGATAGAGGTAGTAACTGGCCT\n",
    "    \n",
    "2. Prints the following output\n",
    "\n",
    "\t\tsequence: *sequence*\n",
    "\t\tA's: *number of A's*\n",
    "\t\tC's: *number of C's*\n",
    "\t\tT's: *number of T's*\n",
    "\t\tG's: *number of G's*\n",
    "\t\tGC content: *gc content*\n",
    "   \n",
    "\tWhere *number of x's* is the number of nucleotide *x* in *sequence* and *gc content* is the gc content of *sequence* is $\\frac{\\mbox{(number of G's)} + \\mbox{(number of C's)}}{\\mbox{length of sequence}}$\n",
    "\n",
    "For example, with sequence \"AAGGCCC\" the output should be (the gc content may have more or fewer significant digits on your system)\n",
    "\n",
    "\t\tsequence: *sequence*\n",
    "\t\tA's: 2\n",
    "\t\tC's: 3\n",
    "\t\tT's: 0\n",
    "\t\tG's: 2\n",
    "\t\tGC content: 0.714285714\n",
    "\n",
    "Run your program and redirect the output into a file (in the same directory) named *ncounts.txt*\n"
   ]
  },
  {
   "cell_type": "code",
   "execution_count": null,
   "metadata": {},
   "outputs": [],
   "source": []
  }
 ],
 "metadata": {
  "anaconda-cloud": {},
  "kernelspec": {
   "display_name": "Python [default]",
   "language": "python",
   "name": "python3"
  },
  "language_info": {
   "codemirror_mode": {
    "name": "ipython",
    "version": 3
   },
   "file_extension": ".py",
   "mimetype": "text/x-python",
   "name": "python",
   "nbconvert_exporter": "python",
   "pygments_lexer": "ipython3",
   "version": "3.5.5"
  },
  "latex_envs": {
   "bibliofile": "biblio.bib",
   "cite_by": "apalike",
   "current_citInitial": 1,
   "eqLabelWithNumbers": true,
   "eqNumInitial": 0
  }
 },
 "nbformat": 4,
 "nbformat_minor": 2
}
