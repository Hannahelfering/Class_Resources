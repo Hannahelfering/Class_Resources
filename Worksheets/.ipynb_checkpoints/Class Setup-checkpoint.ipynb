{
 "cells": [
  {
   "cell_type": "markdown",
   "metadata": {},
   "source": [
    "# Introduction\n",
    "The focus of this class is on using the Python programming language and specialized packages to analyze and explore biological datasets.\n",
    "We will use the same tools in class that you will use when you, as a scientist, are working with your own data.\n",
    "\n",
    "Here is a summary of these tools and packages. \n",
    "Read this section, but don't worry if you don't get it all. \n",
    "We will come back to these topics, one at a time.\n",
    "\n",
    "My hope is that this class will be discussion oriented. \n",
    "Our \"standard workflow\", to use bioinformatics jargon, will be:\n",
    "\n",
    "1. On Tuesdays I will preview the next topics, going into depth where necessary.\n",
    "2. You will learn material outside of class through tutorials and worksheets (like this one). You must do this in order to be prepared for class.\n",
    "3. On Thursdays you will work on worksheets and homework in class. There may be periodic quizes or exams on Thursdays. \n",
    "4. On Thursdays the classroom will be available after class until 17.00. You are welcome to use the classroom anytime it is available, also.\n",
    "\n",
    ">**NOTE:** you must be in class and you must be prepared or you will not learn the material. "
   ]
  },
  {
   "cell_type": "markdown",
   "metadata": {},
   "source": [
    "# Set up infrastructure for class"
   ]
  },
  {
   "cell_type": "markdown",
   "metadata": {},
   "source": [
    "## BASH, the Bourne Again Shell\n",
    "\n",
    "GUIs (all those pretty windows and icons) hide a lot of detail that you need to know to do serious bioinforamatics or data processing. You need direct access to the operating system (OS). To get that, you open a \"terminal\", which connects you directly to the OS via a command line. On most Unix systems, the command to open a terminal is:\n",
    "\n",
    ">terminal\n",
    "\n",
    "When the terminal opens, it runs a *shell*. A shell is a wrapper around a computer operating system that lets you interact directly with the computer. The wrapper has commands for the type of things you want to tell the OS to do. We will use *bash*, the Bourne Again Shell.\n",
    "\n",
    "The shell takes stuff from \"Standard Input\" (STDIN) and prints text to \"Standard Output\" (STDOUT).\n",
    "In the simplest case, the command line is where you enter stuff into STDIN. Press enter to send that to the shell. The shell sends it's response to your terminal. "
   ]
  },
  {
   "cell_type": "markdown",
   "metadata": {},
   "source": [
    "### Starting the shell in a terminal\n",
    "\n",
    "1. open a terminal. You CAN find the *terminal* program and click on it, but it's easier on a mac to do this:\n",
    "\n",
    "    a. Enter command-space (this puts you in Spotlight, which searches for stuff)\n",
    "    b. Enter \"terminal\" (this finds the terminal program)\n",
    "    c. Press enter (this runs the terminal program)"
   ]
  },
  {
   "cell_type": "markdown",
   "metadata": {},
   "source": [
    "### Bash commands\n"
   ]
  },
  {
   "cell_type": "markdown",
   "metadata": {},
   "source": [
    "## Jupyter notebooks\n",
    "\n",
    "This is a jupyter notebook. \n",
    "Notebooks are tools for developing code and presenting text. \n",
    "\n",
    "The notebook has \"cells\" where you enter code or text. \n",
    "We will use *python code* in the code cells, and will format text with *markdown* (both discussed below."
   ]
  },
  {
   "cell_type": "markdown",
   "metadata": {},
   "source": [
    "### Creating/editing notebooks\n",
    "Run a jupyter notebook *server* from the command line:\n",
    "\n",
    "0. open a terminal\n",
    "1. move to the directory you want\n",
    "2. enter ```jupyter notebook```\n",
    "3. open or create a notebook by clicking on *File*\n",
    "\n",
    "To enter a new cell, click the \"+\" button, or enter esc-b\n",
    "\n",
    "To execute a cell (format text or run code), press shift-enter"
   ]
  },
  {
   "cell_type": "markdown",
   "metadata": {},
   "source": [
    "#### do it\n",
    "\n",
    "1. Create a notebook called \"Learning_Jupyter\" in *~/Comp_Skills_F18/Homework*\n",
    "\n",
    "We will add stuff to the notebook below"
   ]
  },
  {
   "cell_type": "markdown",
   "metadata": {},
   "source": [
    "## Markdown\n",
    "Markdown is a simple way to format text. It is like html or xml (which are used to format webpages, among other things), but is much simpler.\n",
    "\n",
    "To use markdown:\n",
    "1. create a cell in your notebook\n",
    "2. From the dropdown at the top of the page, select \"Markdown\"\n",
    "3. Enter your text with markup (*Help* at the top has a summary of markdown format)\n",
    "4. Format by pressing shift-enter"
   ]
  },
  {
   "cell_type": "markdown",
   "metadata": {},
   "source": [
    "#### Do it\n",
    "In your *Learning_Jupyter* notebook:\n",
    "\n",
    "1. enter a text cell or cells (I recommend a different cell for each heading) with the following outline:\n",
    "\n",
    "```\n",
    "Introduction\n",
    "    Practicing markup\n",
    "    Adding code\n",
    "```\n",
    "\n",
    "2. In the *Introduction* add text to remind yourself what you're doing (learning Jupyter)\n",
    "3. in *Practicing markup* add some text that uses highlighting, bulleted lists, and numbered lists. \n",
    "4. After \"Adding code\" enter a new code cell (select *code* from the dropdown box at the top).\n",
    "5. Format and save the notebook.\n",
    "6. Log out from the server."
   ]
  },
  {
   "cell_type": "code",
   "execution_count": null,
   "metadata": {},
   "outputs": [],
   "source": []
  }
 ],
 "metadata": {
  "anaconda-cloud": {},
  "kernelspec": {
   "display_name": "Python [default]",
   "language": "python",
   "name": "python3"
  },
  "language_info": {
   "codemirror_mode": {
    "name": "ipython",
    "version": 3
   },
   "file_extension": ".py",
   "mimetype": "text/x-python",
   "name": "python",
   "nbconvert_exporter": "python",
   "pygments_lexer": "ipython3",
   "version": "3.5.5"
  },
  "latex_envs": {
   "bibliofile": "biblio.bib",
   "cite_by": "apalike",
   "current_citInitial": 1,
   "eqLabelWithNumbers": true,
   "eqNumInitial": 0
  }
 },
 "nbformat": 4,
 "nbformat_minor": 2
}
